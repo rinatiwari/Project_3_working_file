{
 "cells": [
  {
   "cell_type": "code",
   "execution_count": 17,
   "metadata": {},
   "outputs": [],
   "source": [
    "from splinter import Browser\n",
    "from selenium import webdriver\n",
    "from bs4 import BeautifulSoup as bs\n",
    "import time\n",
    "import pprint"
   ]
  },
  {
   "cell_type": "code",
   "execution_count": 18,
   "metadata": {},
   "outputs": [],
   "source": [
    "def init_browser():\n",
    "    # @NOTE: Replace the path with your actual path to the chromedriver\n",
    "    executable_path = {\"executable_path\": \"chromedriver.exe\"}\n",
    "    return browser(\"chrome\", **executable_path, headless=False)\n",
    "    "
   ]
  },
  {
   "cell_type": "code",
   "execution_count": 19,
   "metadata": {},
   "outputs": [],
   "source": [
    "# def scrape_info():\n",
    "#browser = Browser('chrome')\n",
    "#browser = init_browser()\n",
    "yahoo_stock = {}"
   ]
  },
  {
   "cell_type": "code",
   "execution_count": 20,
   "metadata": {},
   "outputs": [],
   "source": [
    "# Visit finance.yahoo.com\n",
    "browser = Browser('chrome')\n",
    "browser.visit(\"https://finance.yahoo.com/\")\n",
    "time.sleep(1)"
   ]
  },
  {
   "cell_type": "code",
   "execution_count": 21,
   "metadata": {},
   "outputs": [],
   "source": [
    "# Scrape page into Soup\n",
    "html = browser.html\n",
    "soup = bs(html, \"html.parser\")"
   ]
  },
  {
   "cell_type": "code",
   "execution_count": 23,
   "metadata": {},
   "outputs": [
    {
     "ename": "TypeError",
     "evalue": "'module' object is not callable",
     "output_type": "error",
     "traceback": [
      "\u001b[1;31m---------------------------------------------------------------------------\u001b[0m",
      "\u001b[1;31mTypeError\u001b[0m                                 Traceback (most recent call last)",
      "\u001b[1;32m<ipython-input-23-ff833871c532>\u001b[0m in \u001b[0;36m<module>\u001b[1;34m\u001b[0m\n\u001b[0;32m      1\u001b[0m \u001b[1;31m# Get the stock information\u001b[0m\u001b[1;33m\u001b[0m\u001b[1;33m\u001b[0m\u001b[1;33m\u001b[0m\u001b[0m\n\u001b[0;32m      2\u001b[0m \u001b[0mstock_info\u001b[0m \u001b[1;33m=\u001b[0m \u001b[0msoup\u001b[0m\u001b[1;33m.\u001b[0m\u001b[0mfindAll\u001b[0m\u001b[1;33m(\u001b[0m\u001b[1;34m\"table\"\u001b[0m\u001b[1;33m,\u001b[0m \u001b[1;33m{\u001b[0m\u001b[1;34m\"class\"\u001b[0m\u001b[1;33m:\u001b[0m \u001b[1;34m\"W(100%)\"\u001b[0m\u001b[1;33m}\u001b[0m\u001b[1;33m)\u001b[0m\u001b[1;33m\u001b[0m\u001b[1;33m\u001b[0m\u001b[0m\n\u001b[1;32m----> 3\u001b[1;33m \u001b[0mpprint\u001b[0m\u001b[1;33m(\u001b[0m\u001b[0mstock_info\u001b[0m\u001b[1;33m)\u001b[0m\u001b[1;33m\u001b[0m\u001b[1;33m\u001b[0m\u001b[0m\n\u001b[0m",
      "\u001b[1;31mTypeError\u001b[0m: 'module' object is not callable"
     ]
    }
   ],
   "source": [
    "# Get the stock information\n",
    "stock_info = soup.findAll(\"table\", {\"class\": \"W(100%)\"})\n",
    "pprint(stock_info)"
   ]
  },
  {
   "cell_type": "code",
   "execution_count": null,
   "metadata": {},
   "outputs": [],
   "source": []
  },
  {
   "cell_type": "code",
   "execution_count": 12,
   "metadata": {},
   "outputs": [
    {
     "data": {
      "text/html": [
       "<div>\n",
       "<style scoped>\n",
       "    .dataframe tbody tr th:only-of-type {\n",
       "        vertical-align: middle;\n",
       "    }\n",
       "\n",
       "    .dataframe tbody tr th {\n",
       "        vertical-align: top;\n",
       "    }\n",
       "\n",
       "    .dataframe thead th {\n",
       "        text-align: right;\n",
       "    }\n",
       "</style>\n",
       "<table border=\"1\" class=\"dataframe\">\n",
       "  <thead>\n",
       "    <tr style=\"text-align: right;\">\n",
       "      <th></th>\n",
       "      <th>Name</th>\n",
       "      <th>Price</th>\n",
       "      <th>Change</th>\n",
       "      <th>% Change</th>\n",
       "      <th>Market Cap</th>\n",
       "      <th>Volume in Currency(UTF)</th>\n",
       "      <th>Volume in Currency(24hrs)</th>\n",
       "      <th>Total Volume All Currencies</th>\n",
       "      <th>Circulating Supply</th>\n",
       "    </tr>\n",
       "    <tr>\n",
       "      <th>Ticker</th>\n",
       "      <th></th>\n",
       "      <th></th>\n",
       "      <th></th>\n",
       "      <th></th>\n",
       "      <th></th>\n",
       "      <th></th>\n",
       "      <th></th>\n",
       "      <th></th>\n",
       "      <th></th>\n",
       "    </tr>\n",
       "  </thead>\n",
       "  <tbody>\n",
       "    <tr>\n",
       "      <th>COP</th>\n",
       "      <td>ConocoPhillips Company</td>\n",
       "      <td>56.77</td>\n",
       "      <td>-1.67</td>\n",
       "      <td>-2.86%</td>\n",
       "      <td>5.051M</td>\n",
       "      <td>6.072M</td>\n",
       "      <td>61.376B</td>\n",
       "      <td>8.87</td>\n",
       "      <td>NaN</td>\n",
       "    </tr>\n",
       "    <tr>\n",
       "      <th>MPC</th>\n",
       "      <td>Marathon Petroleum Corporation</td>\n",
       "      <td>56.37</td>\n",
       "      <td>-2.76</td>\n",
       "      <td>-4.68%</td>\n",
       "      <td>5.083M</td>\n",
       "      <td>5.9M</td>\n",
       "      <td>36.599B</td>\n",
       "      <td>14.20</td>\n",
       "      <td>NaN</td>\n",
       "    </tr>\n",
       "    <tr>\n",
       "      <th>NFLX</th>\n",
       "      <td>Netflix, Inc.</td>\n",
       "      <td>370.48</td>\n",
       "      <td>-9.59</td>\n",
       "      <td>-2.52%</td>\n",
       "      <td>5.034M</td>\n",
       "      <td>6.398M</td>\n",
       "      <td>162.569B</td>\n",
       "      <td>89.70</td>\n",
       "      <td>NaN</td>\n",
       "    </tr>\n",
       "    <tr>\n",
       "      <th>DISCA</th>\n",
       "      <td>Discovery, Inc.</td>\n",
       "      <td>28.37</td>\n",
       "      <td>-0.83</td>\n",
       "      <td>-2.86%</td>\n",
       "      <td>5.024M</td>\n",
       "      <td>3.524M</td>\n",
       "      <td>14.489B</td>\n",
       "      <td>12.76</td>\n",
       "      <td>NaN</td>\n",
       "    </tr>\n",
       "    <tr>\n",
       "      <th>WU</th>\n",
       "      <td>The Western Union Company</td>\n",
       "      <td>25.20</td>\n",
       "      <td>-0.57</td>\n",
       "      <td>-2.21%</td>\n",
       "      <td>5.04M</td>\n",
       "      <td>6.629M</td>\n",
       "      <td>10.411B</td>\n",
       "      <td>10.24</td>\n",
       "      <td>NaN</td>\n",
       "    </tr>\n",
       "  </tbody>\n",
       "</table>\n",
       "</div>"
      ],
      "text/plain": [
       "                                  Name   Price  Change % Change Market Cap  \\\n",
       "Ticker                                                                       \n",
       "COP             ConocoPhillips Company   56.77   -1.67   -2.86%     5.051M   \n",
       "MPC     Marathon Petroleum Corporation   56.37   -2.76   -4.68%     5.083M   \n",
       "NFLX                     Netflix, Inc.  370.48   -9.59   -2.52%     5.034M   \n",
       "DISCA                  Discovery, Inc.   28.37   -0.83   -2.86%     5.024M   \n",
       "WU           The Western Union Company   25.20   -0.57   -2.21%      5.04M   \n",
       "\n",
       "       Volume in Currency(UTF) Volume in Currency(24hrs)  \\\n",
       "Ticker                                                     \n",
       "COP                     6.072M                   61.376B   \n",
       "MPC                       5.9M                   36.599B   \n",
       "NFLX                    6.398M                  162.569B   \n",
       "DISCA                   3.524M                   14.489B   \n",
       "WU                      6.629M                   10.411B   \n",
       "\n",
       "        Total Volume All Currencies  Circulating Supply  \n",
       "Ticker                                                   \n",
       "COP                            8.87                 NaN  \n",
       "MPC                           14.20                 NaN  \n",
       "NFLX                          89.70                 NaN  \n",
       "DISCA                         12.76                 NaN  \n",
       "WU                            10.24                 NaN  "
      ]
     },
     "execution_count": 12,
     "metadata": {},
     "output_type": "execute_result"
    }
   ],
   "source": [
    "import pandas as pd\n",
    "\n",
    "#<span class=\"Va(m)\" data-reactid=\"739\"><span data-reactid=\"740\">Next</span></span>\n",
    "\n",
    "# for i in range (0,1):\n",
    "stock_info_df = pd.read_html('https://finance.yahoo.com/most-active?count=25&offset=150')[0]\n",
    "stock_info_df.columns=['Ticker', 'Name', 'Price', 'Change', '% Change', 'Market Cap', 'Volume in Currency(UTF)', \n",
    "                       'Volume in Currency(24hrs)', 'Total Volume All Currencies', 'Circulating Supply']\n",
    "stock_info_df.set_index('Ticker', inplace=True)\n",
    "stock_info_df.tail()"
   ]
  }
 ],
 "metadata": {
  "kernelspec": {
   "display_name": "Python 3",
   "language": "python",
   "name": "python3"
  },
  "language_info": {
   "codemirror_mode": {
    "name": "ipython",
    "version": 3
   },
   "file_extension": ".py",
   "mimetype": "text/x-python",
   "name": "python",
   "nbconvert_exporter": "python",
   "pygments_lexer": "ipython3",
   "version": "3.7.3"
  }
 },
 "nbformat": 4,
 "nbformat_minor": 2
}
