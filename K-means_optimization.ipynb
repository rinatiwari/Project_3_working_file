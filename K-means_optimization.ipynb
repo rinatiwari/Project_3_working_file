{
 "cells": [
  {
   "cell_type": "code",
   "execution_count": 27,
   "metadata": {},
   "outputs": [],
   "source": [
    "# import warnings filter\n",
    "from warnings import simplefilter\n",
    "# ignore all future warnings\n",
    "simplefilter(action='ignore', category=FutureWarning)"
   ]
  },
  {
   "cell_type": "code",
   "execution_count": 28,
   "metadata": {},
   "outputs": [],
   "source": [
    "import os\n",
    "import pandas as pd\n",
    "from pandas import read_csv\n",
    "from pandas.plotting import scatter_matrix\n",
    "from matplotlib import pyplot\n",
    "from sklearn import model_selection\n",
    "from sklearn.model_selection import train_test_split\n",
    "from sklearn.model_selection import cross_val_score\n",
    "from sklearn.model_selection import StratifiedKFold\n",
    "from sklearn.metrics import classification_report\n",
    "from sklearn.metrics import confusion_matrix\n",
    "from sklearn.metrics import accuracy_score\n",
    "from sklearn.ensemble import RandomForestClassifier\n",
    "from sklearn.linear_model import LogisticRegression\n",
    "from sklearn.tree import DecisionTreeClassifier\n",
    "from sklearn.neighbors import KNeighborsClassifier\n",
    "from sklearn.discriminant_analysis import LinearDiscriminantAnalysis\n",
    "from sklearn.naive_bayes import GaussianNB\n",
    "from sklearn.svm import SVC"
   ]
  },
  {
   "cell_type": "code",
   "execution_count": 41,
   "metadata": {},
   "outputs": [
    {
     "data": {
      "text/html": [
       "<div>\n",
       "<style scoped>\n",
       "    .dataframe tbody tr th:only-of-type {\n",
       "        vertical-align: middle;\n",
       "    }\n",
       "\n",
       "    .dataframe tbody tr th {\n",
       "        vertical-align: top;\n",
       "    }\n",
       "\n",
       "    .dataframe thead th {\n",
       "        text-align: right;\n",
       "    }\n",
       "</style>\n",
       "<table border=\"1\" class=\"dataframe\">\n",
       "  <thead>\n",
       "    <tr style=\"text-align: right;\">\n",
       "      <th></th>\n",
       "      <th>Ticker</th>\n",
       "      <th>Company Name</th>\n",
       "      <th>HQ City</th>\n",
       "      <th>HQ State/Province</th>\n",
       "      <th>HQ Country</th>\n",
       "      <th>ESG Risk Score</th>\n",
       "      <th>ESG Risk Score Level</th>\n",
       "      <th>ESG Risk Score Percentile</th>\n",
       "      <th>Environment Risk Score</th>\n",
       "      <th>Social Risk Score</th>\n",
       "      <th>...</th>\n",
       "      <th>2019 Performance</th>\n",
       "      <th>Market Cap</th>\n",
       "      <th>Exchange</th>\n",
       "      <th>CEO</th>\n",
       "      <th>Logo Image URL</th>\n",
       "      <th>Website URL</th>\n",
       "      <th>Industry</th>\n",
       "      <th>Sector</th>\n",
       "      <th>Company Description</th>\n",
       "      <th>Grouping</th>\n",
       "    </tr>\n",
       "  </thead>\n",
       "  <tbody>\n",
       "    <tr>\n",
       "      <th>0</th>\n",
       "      <td>MMM</td>\n",
       "      <td>3M Company</td>\n",
       "      <td>Saint paul</td>\n",
       "      <td>Minnesota</td>\n",
       "      <td>United states of america</td>\n",
       "      <td>35</td>\n",
       "      <td>High</td>\n",
       "      <td>69th percentile</td>\n",
       "      <td>12.6</td>\n",
       "      <td>12.7</td>\n",
       "      <td>...</td>\n",
       "      <td>-7.410517</td>\n",
       "      <td>9.350000e+10</td>\n",
       "      <td>New York Stock Exchange</td>\n",
       "      <td>Inge G. Thulin</td>\n",
       "      <td>https://financialmodelingprep.com/images-New-j...</td>\n",
       "      <td>http://www.3m.com</td>\n",
       "      <td>Industrial Products</td>\n",
       "      <td>Industrials</td>\n",
       "      <td>3M Co is a diversified technology company. It ...</td>\n",
       "      <td>6</td>\n",
       "    </tr>\n",
       "    <tr>\n",
       "      <th>1</th>\n",
       "      <td>AOS</td>\n",
       "      <td>A.O. Smith Corporation</td>\n",
       "      <td>Milwaukee</td>\n",
       "      <td>Wisconsin</td>\n",
       "      <td>United states of america</td>\n",
       "      <td>25</td>\n",
       "      <td>Medium</td>\n",
       "      <td>37th percentile</td>\n",
       "      <td>13.6</td>\n",
       "      <td>4.3</td>\n",
       "      <td>...</td>\n",
       "      <td>11.569087</td>\n",
       "      <td>7.090000e+09</td>\n",
       "      <td>New York Stock Exchange</td>\n",
       "      <td>NaN</td>\n",
       "      <td>https://financialmodelingprep.com/images-New-j...</td>\n",
       "      <td>http://www.aosmith.com</td>\n",
       "      <td>Industrial Products</td>\n",
       "      <td>Industrials</td>\n",
       "      <td>A.O. Smith Corp manufactures and markets water...</td>\n",
       "      <td>2</td>\n",
       "    </tr>\n",
       "    <tr>\n",
       "      <th>2</th>\n",
       "      <td>ABT</td>\n",
       "      <td>Abbott Laboratories</td>\n",
       "      <td>Abbott park</td>\n",
       "      <td>Illinois</td>\n",
       "      <td>United states of america</td>\n",
       "      <td>31</td>\n",
       "      <td>High</td>\n",
       "      <td>57th percentile</td>\n",
       "      <td>3.7</td>\n",
       "      <td>15.3</td>\n",
       "      <td>...</td>\n",
       "      <td>20.088483</td>\n",
       "      <td>1.580000e+11</td>\n",
       "      <td>New York Stock Exchange</td>\n",
       "      <td>Miles D. White</td>\n",
       "      <td>https://financialmodelingprep.com/images-New-j...</td>\n",
       "      <td>http://www.abbott.com</td>\n",
       "      <td>Drug Manufacturers</td>\n",
       "      <td>Healthcare</td>\n",
       "      <td>Abbott Laboratories is a health care company t...</td>\n",
       "      <td>5</td>\n",
       "    </tr>\n",
       "    <tr>\n",
       "      <th>3</th>\n",
       "      <td>ABBV</td>\n",
       "      <td>AbbVie Inc.</td>\n",
       "      <td>North chicago</td>\n",
       "      <td>Illinois</td>\n",
       "      <td>United states of america</td>\n",
       "      <td>30</td>\n",
       "      <td>High</td>\n",
       "      <td>56th percentile</td>\n",
       "      <td>1.0</td>\n",
       "      <td>16.5</td>\n",
       "      <td>...</td>\n",
       "      <td>-3.959215</td>\n",
       "      <td>1.210000e+11</td>\n",
       "      <td>New York Stock Exchange</td>\n",
       "      <td>Richard A. Gonzalez</td>\n",
       "      <td>https://financialmodelingprep.com/images-New-j...</td>\n",
       "      <td>http://www.abbvie.com</td>\n",
       "      <td>Drug Manufacturers</td>\n",
       "      <td>Healthcare</td>\n",
       "      <td>AbbVie Inc is a biopharmaceutical company that...</td>\n",
       "      <td>5</td>\n",
       "    </tr>\n",
       "    <tr>\n",
       "      <th>4</th>\n",
       "      <td>ABN.AS</td>\n",
       "      <td>ABN AMRO Bank N.V.</td>\n",
       "      <td>Amsterdam</td>\n",
       "      <td>Noord-holland</td>\n",
       "      <td>Netherlands</td>\n",
       "      <td>86</td>\n",
       "      <td>Severe</td>\n",
       "      <td>98th percentile</td>\n",
       "      <td>90.0</td>\n",
       "      <td>85.0</td>\n",
       "      <td>...</td>\n",
       "      <td>-21.032132</td>\n",
       "      <td>1.490000e+10</td>\n",
       "      <td>Amsterdam</td>\n",
       "      <td>NaN</td>\n",
       "      <td>https://financialmodelingprep.com/images-New-j...</td>\n",
       "      <td>http://www.abnamro.com</td>\n",
       "      <td>Banks—Diversified</td>\n",
       "      <td>Financial Services</td>\n",
       "      <td>ABN AMRO Bank N.V. provides various banking pr...</td>\n",
       "      <td>1</td>\n",
       "    </tr>\n",
       "  </tbody>\n",
       "</table>\n",
       "<p>5 rows × 22 columns</p>\n",
       "</div>"
      ],
      "text/plain": [
       "   Ticker            Company Name        HQ City HQ State/Province  \\\n",
       "0     MMM              3M Company     Saint paul         Minnesota   \n",
       "1     AOS  A.O. Smith Corporation      Milwaukee         Wisconsin   \n",
       "2     ABT     Abbott Laboratories    Abbott park          Illinois   \n",
       "3    ABBV             AbbVie Inc.  North chicago          Illinois   \n",
       "4  ABN.AS      ABN AMRO Bank N.V.      Amsterdam     Noord-holland   \n",
       "\n",
       "                 HQ Country  ESG Risk Score ESG Risk Score Level  \\\n",
       "0  United states of america              35                 High   \n",
       "1  United states of america              25               Medium   \n",
       "2  United states of america              31                 High   \n",
       "3  United states of america              30                 High   \n",
       "4               Netherlands              86               Severe   \n",
       "\n",
       "  ESG Risk Score Percentile  Environment Risk Score  Social Risk Score  ...  \\\n",
       "0           69th percentile                    12.6               12.7  ...   \n",
       "1           37th percentile                    13.6                4.3  ...   \n",
       "2           57th percentile                     3.7               15.3  ...   \n",
       "3           56th percentile                     1.0               16.5  ...   \n",
       "4           98th percentile                    90.0               85.0  ...   \n",
       "\n",
       "   2019 Performance    Market Cap                 Exchange  \\\n",
       "0         -7.410517  9.350000e+10  New York Stock Exchange   \n",
       "1         11.569087  7.090000e+09  New York Stock Exchange   \n",
       "2         20.088483  1.580000e+11  New York Stock Exchange   \n",
       "3         -3.959215  1.210000e+11  New York Stock Exchange   \n",
       "4        -21.032132  1.490000e+10                Amsterdam   \n",
       "\n",
       "                   CEO                                     Logo Image URL  \\\n",
       "0       Inge G. Thulin  https://financialmodelingprep.com/images-New-j...   \n",
       "1                  NaN  https://financialmodelingprep.com/images-New-j...   \n",
       "2       Miles D. White  https://financialmodelingprep.com/images-New-j...   \n",
       "3  Richard A. Gonzalez  https://financialmodelingprep.com/images-New-j...   \n",
       "4                  NaN  https://financialmodelingprep.com/images-New-j...   \n",
       "\n",
       "              Website URL             Industry              Sector  \\\n",
       "0       http://www.3m.com  Industrial Products         Industrials   \n",
       "1  http://www.aosmith.com  Industrial Products         Industrials   \n",
       "2   http://www.abbott.com   Drug Manufacturers          Healthcare   \n",
       "3   http://www.abbvie.com   Drug Manufacturers          Healthcare   \n",
       "4  http://www.abnamro.com    Banks—Diversified  Financial Services   \n",
       "\n",
       "                                 Company Description Grouping  \n",
       "0  3M Co is a diversified technology company. It ...        6  \n",
       "1  A.O. Smith Corp manufactures and markets water...        2  \n",
       "2  Abbott Laboratories is a health care company t...        5  \n",
       "3  AbbVie Inc is a biopharmaceutical company that...        5  \n",
       "4  ABN AMRO Bank N.V. provides various banking pr...        1  \n",
       "\n",
       "[5 rows x 22 columns]"
      ]
     },
     "execution_count": 41,
     "metadata": {},
     "output_type": "execute_result"
    }
   ],
   "source": [
    "# Import required packages\n",
    "from sklearn.preprocessing import MinMaxScaler\n",
    "from sklearn.cluster import KMeans\n",
    "import matplotlib.pyplot as plt\n",
    "\n",
    "# load dataset\n",
    "\n",
    "#import and read final csv file\n",
    "data = pd.read_csv('Modeled_Database.csv')\n",
    "data.head()"
   ]
  },
  {
   "cell_type": "code",
   "execution_count": 30,
   "metadata": {},
   "outputs": [
    {
     "data": {
      "text/html": [
       "<div>\n",
       "<style scoped>\n",
       "    .dataframe tbody tr th:only-of-type {\n",
       "        vertical-align: middle;\n",
       "    }\n",
       "\n",
       "    .dataframe tbody tr th {\n",
       "        vertical-align: top;\n",
       "    }\n",
       "\n",
       "    .dataframe thead th {\n",
       "        text-align: right;\n",
       "    }\n",
       "</style>\n",
       "<table border=\"1\" class=\"dataframe\">\n",
       "  <thead>\n",
       "    <tr style=\"text-align: right;\">\n",
       "      <th></th>\n",
       "      <th>Environment Risk Score</th>\n",
       "      <th>Social Risk Score</th>\n",
       "      <th>Governance Risk Score</th>\n",
       "    </tr>\n",
       "  </thead>\n",
       "  <tbody>\n",
       "    <tr>\n",
       "      <th>0</th>\n",
       "      <td>12.6</td>\n",
       "      <td>12.7</td>\n",
       "      <td>9.2</td>\n",
       "    </tr>\n",
       "    <tr>\n",
       "      <th>1</th>\n",
       "      <td>13.6</td>\n",
       "      <td>4.3</td>\n",
       "      <td>7.3</td>\n",
       "    </tr>\n",
       "    <tr>\n",
       "      <th>2</th>\n",
       "      <td>3.7</td>\n",
       "      <td>15.3</td>\n",
       "      <td>11.6</td>\n",
       "    </tr>\n",
       "    <tr>\n",
       "      <th>3</th>\n",
       "      <td>1.0</td>\n",
       "      <td>16.5</td>\n",
       "      <td>12.8</td>\n",
       "    </tr>\n",
       "    <tr>\n",
       "      <th>4</th>\n",
       "      <td>90.0</td>\n",
       "      <td>85.0</td>\n",
       "      <td>84.0</td>\n",
       "    </tr>\n",
       "    <tr>\n",
       "      <th>...</th>\n",
       "      <td>...</td>\n",
       "      <td>...</td>\n",
       "      <td>...</td>\n",
       "    </tr>\n",
       "    <tr>\n",
       "      <th>718</th>\n",
       "      <td>4.1</td>\n",
       "      <td>10.9</td>\n",
       "      <td>5.3</td>\n",
       "    </tr>\n",
       "    <tr>\n",
       "      <th>719</th>\n",
       "      <td>8.8</td>\n",
       "      <td>12.5</td>\n",
       "      <td>8.3</td>\n",
       "    </tr>\n",
       "    <tr>\n",
       "      <th>720</th>\n",
       "      <td>3.3</td>\n",
       "      <td>15.8</td>\n",
       "      <td>11.1</td>\n",
       "    </tr>\n",
       "    <tr>\n",
       "      <th>721</th>\n",
       "      <td>3.8</td>\n",
       "      <td>18.5</td>\n",
       "      <td>11.5</td>\n",
       "    </tr>\n",
       "    <tr>\n",
       "      <th>722</th>\n",
       "      <td>2.7</td>\n",
       "      <td>13.9</td>\n",
       "      <td>11.6</td>\n",
       "    </tr>\n",
       "  </tbody>\n",
       "</table>\n",
       "<p>723 rows × 3 columns</p>\n",
       "</div>"
      ],
      "text/plain": [
       "     Environment Risk Score  Social Risk Score  Governance Risk Score\n",
       "0                      12.6               12.7                    9.2\n",
       "1                      13.6                4.3                    7.3\n",
       "2                       3.7               15.3                   11.6\n",
       "3                       1.0               16.5                   12.8\n",
       "4                      90.0               85.0                   84.0\n",
       "..                      ...                ...                    ...\n",
       "718                     4.1               10.9                    5.3\n",
       "719                     8.8               12.5                    8.3\n",
       "720                     3.3               15.8                   11.1\n",
       "721                     3.8               18.5                   11.5\n",
       "722                     2.7               13.9                   11.6\n",
       "\n",
       "[723 rows x 3 columns]"
      ]
     },
     "execution_count": 30,
     "metadata": {},
     "output_type": "execute_result"
    }
   ],
   "source": [
    "#create dataframe of required columns\n",
    "\n",
    "ESG_df = data[['Environment Risk Score', 'Social Risk Score', 'Governance Risk Score']].copy()\n",
    "ESG_df"
   ]
  },
  {
   "cell_type": "code",
   "execution_count": 31,
   "metadata": {},
   "outputs": [
    {
     "name": "stdout",
     "output_type": "stream",
     "text": [
      "(723, 3)\n"
     ]
    }
   ],
   "source": [
    "# shape\n",
    "print(ESG_df.shape)"
   ]
  },
  {
   "cell_type": "code",
   "execution_count": 32,
   "metadata": {},
   "outputs": [],
   "source": [
    "#Use minmax scaler to normalize data\n",
    "#Compare Algorithms\n",
    "mms = MinMaxScaler()\n",
    "mms.fit(ESG_df)\n",
    "ESG_df_transformed = mms.transform(ESG_df)"
   ]
  },
  {
   "cell_type": "code",
   "execution_count": 33,
   "metadata": {},
   "outputs": [
    {
     "name": "stdout",
     "output_type": "stream",
     "text": [
      "       Environment Risk Score  Social Risk Score  Governance Risk Score\n",
      "count              723.000000         723.000000             723.000000\n",
      "mean                 6.790318          10.826833               8.422545\n",
      "std                  8.584418           7.022043               6.932644\n",
      "min                  0.000000           1.000000               3.300000\n",
      "25%                  1.600000           7.400000               6.000000\n",
      "50%                  4.000000          10.000000               7.100000\n",
      "75%                  9.550000          12.900000               9.000000\n",
      "max                 90.000000          88.000000              90.000000\n"
     ]
    }
   ],
   "source": [
    "# descriptions\n",
    "print(ESG_df.describe())"
   ]
  },
  {
   "cell_type": "code",
   "execution_count": 34,
   "metadata": {},
   "outputs": [
    {
     "data": {
      "image/png": "[encoded data removed]",
      "text/plain": [
       "<Figure size 432x288 with 4 Axes>"
      ]
     },
     "metadata": {
      "needs_background": "light"
     },
     "output_type": "display_data"
    },
    {
     "data": {
      "text/plain": [
       "<Figure size 640x480 with 0 Axes>"
      ]
     },
     "metadata": {},
     "output_type": "display_data"
    }
   ],
   "source": [
    "from matplotlib.pyplot import figure\n",
    "\n",
    "#Data Visualization to check distribution of data \n",
    "# box and whisker plots\n",
    "ESG_df.plot(kind='box', subplots=True, layout=(2,2), sharex=False, sharey=False)\n",
    "figure(num=None, figsize=(8, 6), dpi=80)\n",
    "pyplot.show()"
   ]
  },
  {
   "cell_type": "code",
   "execution_count": 11,
   "metadata": {},
   "outputs": [
    {
     "data": {
      "image/png": "[encoded data removed]",
      "text/plain": [
       "<Figure size 432x288 with 4 Axes>"
      ]
     },
     "metadata": {
      "needs_background": "light"
     },
     "output_type": "display_data"
    },
    {
     "data": {
      "text/plain": [
       "<Figure size 640x480 with 0 Axes>"
      ]
     },
     "metadata": {},
     "output_type": "display_data"
    }
   ],
   "source": [
    "#more visiulization of data\n",
    "# histograms\n",
    "ESG_df.hist()\n",
    "figure(num=None, figsize=(8, 6), dpi=80)\n",
    "pyplot.show()"
   ]
  },
  {
   "cell_type": "code",
   "execution_count": 13,
   "metadata": {},
   "outputs": [
    {
     "data": {
      "image/png": "[encoded data removed]",
      "text/plain": [
       "<Figure size 432x288 with 9 Axes>"
      ]
     },
     "metadata": {
      "needs_background": "light"
     },
     "output_type": "display_data"
    }
   ],
   "source": [
    "#check interaction between veriables\n",
    "# scatter plot matrix\n",
    "scatter_matrix(ESG_df)\n",
    "\n",
    "pyplot.show()"
   ]
  },
  {
   "cell_type": "code",
   "execution_count": 35,
   "metadata": {},
   "outputs": [],
   "source": [
    "#Use minmax scaler to normalize data\n",
    "#Compare Algorithms\n",
    "mms = MinMaxScaler()\n",
    "mms.fit(ESG_df)\n",
    "ESG_df_transformed = mms.transform(ESG_df)"
   ]
  },
  {
   "cell_type": "code",
   "execution_count": 49,
   "metadata": {},
   "outputs": [],
   "source": [
    "Sum_of_squared_distances = []\n",
    "K = range(1,10)\n",
    "for k in K:\n",
    "    km = KMeans(n_clusters=k)\n",
    "    km = km.fit(ESG_df_transformed)\n",
    "    Sum_of_squared_distances.append(km.inertia_)"
   ]
  },
  {
   "cell_type": "code",
   "execution_count": 50,
   "metadata": {},
   "outputs": [
    {
     "data": {
      "image/png": "[encoded data removed]",
      "text/plain": [
       "<Figure size 432x288 with 1 Axes>"
      ]
     },
     "metadata": {
      "needs_background": "light"
     },
     "output_type": "display_data"
    }
   ],
   "source": [
    "# ploting figure to show number of optimised cluster using Elbow method\n",
    "\n",
    "plt.plot(K, Sum_of_squared_distances, 'bx-')\n",
    "plt.xlabel('k')\n",
    "plt.ylabel('Sum_of_squared_distances')\n",
    "plt.title('Elbow Method For Optimal k')\n",
    "plt.show()"
   ]
  },
  {
   "cell_type": "code",
   "execution_count": 51,
   "metadata": {},
   "outputs": [],
   "source": [
    "Sum_of_squared_distances = []\n",
    "K = range(1,15)\n",
    "for k in K:\n",
    "    km = KMeans(n_clusters=k)\n",
    "    km = km.fit(ESG_df_transformed)\n",
    "    Sum_of_squared_distances.append(km.inertia_)"
   ]
  },
  {
   "cell_type": "code",
   "execution_count": 52,
   "metadata": {},
   "outputs": [
    {
     "data": {
      "image/png": "[encoded data removed]",
      "text/plain": [
       "<Figure size 432x288 with 1 Axes>"
      ]
     },
     "metadata": {
      "needs_background": "light"
     },
     "output_type": "display_data"
    }
   ],
   "source": [
    "plt.plot(K, Sum_of_squared_distances, 'bx-')\n",
    "plt.xlabel('k')\n",
    "plt.ylabel('Sum_of_squared_distances')\n",
    "plt.title('Elbow Method For Optimal k')\n",
    "plt.show()"
   ]
  },
  {
   "cell_type": "code",
   "execution_count": 53,
   "metadata": {},
   "outputs": [],
   "source": [
    "Sum_of_squared_distances = []\n",
    "K = range(1,20)\n",
    "for k in K:\n",
    "    km = KMeans(n_clusters=k)\n",
    "    km = km.fit(ESG_df_transformed)\n",
    "    Sum_of_squared_distances.append(km.inertia_)"
   ]
  },
  {
   "cell_type": "code",
   "execution_count": 54,
   "metadata": {},
   "outputs": [
    {
     "data": {
      "image/png": "[encoded data removed]",
      "text/plain": [
       "<Figure size 432x288 with 1 Axes>"
      ]
     },
     "metadata": {
      "needs_background": "light"
     },
     "output_type": "display_data"
    }
   ],
   "source": [
    "plt.plot(K, Sum_of_squared_distances, 'bx-')\n",
    "plt.xlabel('k')\n",
    "plt.ylabel('Sum_of_squared_distances')\n",
    "plt.title('Elbow Method For Optimal k')\n",
    "plt.show()"
   ]
  },
  {
   "cell_type": "markdown",
   "metadata": {
    "slideshow": {
     "slide_type": "notes"
    }
   },
   "source": [
    " Based on the Above plot, decided to take 8-clusters in the k-means."
   ]
  }
 ],
 "metadata": {
  "kernelspec": {
   "display_name": "Python 3",
   "language": "python",
   "name": "python3"
  },
  "language_info": {
   "codemirror_mode": {
    "name": "ipython",
    "version": 3
   },
   "file_extension": ".py",
   "mimetype": "text/x-python",
   "name": "python",
   "nbconvert_exporter": "python",
   "pygments_lexer": "ipython3",
   "version": "3.7.3"
  }
 },
 "nbformat": 4,
 "nbformat_minor": 2
}
